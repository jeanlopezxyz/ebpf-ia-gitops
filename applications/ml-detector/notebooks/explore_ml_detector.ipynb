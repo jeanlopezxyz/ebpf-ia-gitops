{
 "cells": [
  {
   "cell_type": "markdown",
   "metadata": {},
   "source": [
    "# Exploración del ML Detector\n",
    "\n",
    "Este notebook usa el código del proyecto (sin duplicarlo) para:\n",
    "- Instanciar el `ThreatDetector`\n",
    "- Generar datos sintéticos (normal/anómalo)\n",
    "- Entrenar y evaluar\n",
    "- Visualizar KMeans, LOF y OneClassSVM en 2D (PCA)\n",
    "\n",
    "Requisitos de dev (local): `pip install -r applications/ml-detector/requirements-dev.txt`\n"
   ]
  },
  {
   "cell_type": "code",
   "execution_count": null,
   "metadata": {},
   "outputs": [],
   "source": [
    "# Configurar ruta para importar módulos del proyecto\n",
    "import sys, os\n",
    "from pathlib import Path\n",
    "\n",
    "# Asume que este notebook vive en applications/ml-detector/notebooks\n",
    "nb_dir = Path.cwd()\n",
    "app_dir = nb_dir.parent  # applications/ml-detector\n",
    "sys.path.insert(0, str(app_dir))\n",
    "\n",
    "# Desactivar entrenamiento/baseline automáticos para exploración reproducible\n",
    "os.environ['TRAINING_ENABLED'] = 'false'\n",
    "os.environ['BASELINE_ENABLED'] = 'false'\n",
    "os.environ.setdefault('MODEL_PATH', '/tmp/models')\n",
    "\n",
    "%config InlineBackend.figure_format = 'retina'\n",
    "%matplotlib inline\n"
   ]
  },
  {
   "cell_type": "code",
   "execution_count": null,
   "metadata": {},
   "outputs": [],
   "source": [
    "# Importar el detector y dependencias\n",
    "import numpy as np\n",
    "import matplotlib.pyplot as plt\n",
    "import seaborn as sns\n",
    "from sklearn.decomposition import PCA\n",
    "\n",
    "from detector import ThreatDetector\n",
    "\n",
    "detector = ThreatDetector()\n",
    "detector.is_trained\n"
   ]
  },
  {
   "cell_type": "code",
   "execution_count": null,
   "metadata": {},
   "outputs": [],
   "source": [
    "# Generar datos sintéticos: normal y anomalías sencillas\n",
    "def gen_normal(n=300, seed=42):\n",
    "    rng = np.random.default_rng(seed)\n",
    "    return [\n",
    "        {\n",
    "            'packets_per_second': float(rng.normal(50, 10)),\n",
    "            'bytes_per_second': float(rng.normal(50000, 10000)),\n",
    "            'unique_ips': int(rng.integers(5, 20)),\n",
    "            'unique_ports': int(rng.integers(3, 10)),\n",
    "            'tcp_ratio': float(rng.uniform(0.6, 0.8)),\n",
    "            'syn_packets': int(rng.integers(10, 50)),\n",
    "        } for _ in range(n)\n",
    "    ]\n",
    "\n",
    "def gen_anomalies(n=60, seed=123):\n",
    "    rng = np.random.default_rng(seed)\n",
    "    data = []\n",
    "    for _ in range(n):\n",
    "        mode = rng.integers(0, 3)\n",
    "        if mode == 0:  # DDoS-like\n",
    "            d = {'packets_per_second': float(rng.normal(2000, 200)), 'bytes_per_second': float(rng.normal(2e6, 2e5)), 'unique_ips': int(rng.integers(1, 5)), 'unique_ports': int(rng.integers(1, 3)), 'tcp_ratio': float(rng.uniform(0.7, 1.0)), 'syn_packets': int(rng.integers(500, 1200))}\n",
    "        elif mode == 1:  # Port-scan-like\n",
    "            d = {'packets_per_second': float(rng.normal(200, 30)), 'bytes_per_second': float(rng.normal(1e5, 2e4)), 'unique_ips': int(rng.integers(1, 3)), 'unique_ports': int(rng.integers(30, 200)), 'tcp_ratio': float(rng.uniform(0.4, 0.9)), 'syn_packets': int(rng.integers(50, 150))}\n",
    "        else:  # Exfil-like\n",
    "            d = {'packets_per_second': float(rng.normal(120, 20)), 'bytes_per_second': float(rng.normal(6e6, 5e5)), 'unique_ips': int(rng.integers(1, 4)), 'unique_ports': int(rng.integers(1, 5)), 'tcp_ratio': float(rng.uniform(0.85, 1.0)), 'syn_packets': int(rng.integers(20, 60))}\n",
    "        data.append(d)\n",
    "    return data\n",
    "\n",
    "normal = gen_normal(400)\n",
    "anoms = gen_anomalies(80)\n",
    "len(normal), len(anoms)\n"
   ]
  },
  {
   "cell_type": "code",
   "execution_count": null,
   "metadata": {},
   "outputs": [],
   "source": [
    "# Alimentar normal al detector y entrenar\n",
    "for d in normal:\n",
    "    detector.extract_features(d)\n",
    "detector.train_models()\n",
    "detector.is_trained\n"
   ]
  },
  {
   "cell_type": "code",
   "execution_count": null,
   "metadata": {},
   "outputs": [],
   "source": [
    "# Preparar matriz de características y etiquetas\n",
    "def to_vec(d):\n",
    "    return [\n",
    "        d.get('packets_per_second', 0),\n",
    "        d.get('bytes_per_second', 0),\n",
    "        d.get('unique_ips', 0),\n",
    "        d.get('unique_ports', 0),\n",
    "        d.get('tcp_ratio', 0.5),\n",
    "        d.get('syn_packets', 0),\n",
    "    ]\n",
    "\n",
    "Xn = np.array([to_vec(d) for d in normal])\n",
    "Xa = np.array([to_vec(d) for d in anoms])\n",
    "X = np.vstack([Xn, Xa])\n",
    "y = np.array([0]*len(Xn) + [1]*len(Xa))  # 0 normal, 1 anómalo\n",
    "\n",
    "# Proyección 2D con PCA (sobre datos escalados del detector)\n",
    "Xs = detector.scaler.transform(X) if hasattr(detector.scaler, 'mean_') else X\n",
    "pca = PCA(n_components=2, random_state=0)\n",
    "Z = pca.fit_transform(Xs)\n",
    "Z[:3]\n"
   ]
  },
  {
   "cell_type": "code",
   "execution_count": null,
   "metadata": {},
   "outputs": [],
   "source": [
    "# Visualización básica: normal vs anomalías\n",
    "plt.figure(figsize=(6,5))\n",
    "sns.scatterplot(x=Z[:,0], y=Z[:,1], hue=y, palette={0: 'tab:blue', 1: 'tab:red'}, s=30)\n",
    "plt.title('Proyección PCA: normal (azul) vs anomalías (rojo)')\n",
    "plt.xlabel('PC1'); plt.ylabel('PC2'); plt.legend(title='label');\n",
    "plt.show()\n"
   ]
  },
  {
   "cell_type": "code",
   "execution_count": null,
   "metadata": {},
   "outputs": [],
   "source": [
    "# KMeans: asignaciones de cluster y centros proyectados\n",
    "labels = detector.kmeans.predict(Xs)\n",
    "centers_6d = detector.kmeans.cluster_centers_\n",
    "centers_2d = pca.transform(centers_6d)\n",
    "\n",
    "plt.figure(figsize=(6,5))\n",
    "sns.scatterplot(x=Z[:,0], y=Z[:,1], hue=labels, palette='tab10', s=20, legend=False)\n",
    "plt.scatter(centers_2d[:,0], centers_2d[:,1], c='black', s=120, marker='x', label='centros')\n",
    "plt.title('KMeans clusters (PCA)')\n",
    "plt.xlabel('PC1'); plt.ylabel('PC2'); plt.legend();\n",
    "plt.show()\n"
   ]
  },
  {
   "cell_type": "code",
   "execution_count": null,
   "metadata": {},
   "outputs": [],
   "source": [
    "# LOF y One-Class SVM: mapa de calor de score sobre la grilla 2D\n",
    "def grid_scores(model_decision_fn, Z_data, steps=120):\n",
    "    x_min, x_max = Z_data[:,0].min()-1, Z_data[:,0].max()+1\n",
    "    y_min, y_max = Z_data[:,1].min()-1, Z_data[:,1].max()+1\n",
    "    xx, yy = np.meshgrid(np.linspace(x_min, x_max, steps), np.linspace(y_min, y_max, steps))\n",
    "    grid = np.c_[xx.ravel(), yy.ravel()]\n",
    "    # Volver de PCA->6D aproximado: usamos inversa de PCA y luego inversa de scaler\n",
    "    Xs_grid = pca.inverse_transform(grid)\n",
    "    # Decision en espacio 6D escalado\n",
    "    zz = model_decision_fn(Xs_grid).reshape(xx.shape)\n",
    "    return xx, yy, zz\n",
    "\n",
    "# LOF: decision_function (positivos ~ normal, negativos ~ outlier)\n",
    "xx, yy, zz_lof = grid_scores(lambda Xs_: detector.lof.decision_function(Xs_), Z)\n",
    "plt.figure(figsize=(6,5))\n",
    "plt.contourf(xx, yy, zz_lof, levels=20, cmap='coolwarm', alpha=0.6)\n",
    "plt.scatter(Z[:,0], Z[:,1], c=y, cmap='bwr', s=15, edgecolor='k', alpha=0.6)\n",
    "plt.title('LOF decision function (PCA)')\n",
    "plt.xlabel('PC1'); plt.ylabel('PC2');\n",
    "plt.show()\n",
    "\n",
    "# One-Class SVM\n",
    "xx, yy, zz_svm = grid_scores(lambda Xs_: detector.svm.decision_function(Xs_), Z)\n",
    "plt.figure(figsize=(6,5))\n",
    "plt.contourf(xx, yy, zz_svm, levels=20, cmap='PiYG', alpha=0.6)\n",
    "plt.scatter(Z[:,0], Z[:,1], c=y, cmap='bwr', s=15, edgecolor='k', alpha=0.6)\n",
    "plt.title('One-Class SVM decision function (PCA)')\n",
    "plt.xlabel('PC1'); plt.ylabel('PC2');\n",
    "plt.show()\n"
   ]
  },
  {
   "cell_type": "code",
   "execution_count": null,
   "metadata": {},
   "outputs": [],
   "source": [
    "# Prueba de inferencia usando el endpoint interno del detector\n",
    "samples = [normal[0], anoms[0]]\n",
    "for s in samples:\n",
    "    print('input:', s)\n",
    "    print('detect:', detector.detect(s))\n",
    "    print('-'*60)\n"
   ]
  }
 ],
 "metadata": {
  "kernelspec": {
   "display_name": "Python 3",
   "language": "python",
   "name": "python3"
  },
  "language_info": {
   "name": "python",
   "version": "3.11"
  }
 },
 "nbformat": 4,
 "nbformat_minor": 5
}
